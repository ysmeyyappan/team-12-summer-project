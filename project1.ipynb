{
 "cells": [
  {
   "cell_type": "code",
   "execution_count": 1,
   "id": "569bcd6b",
   "metadata": {},
   "outputs": [],
   "source": [
    "from tensorflow.keras.preprocessing.image import ImageDataGenerator\n",
    "from tensorflow.keras.applications.inception_v3 import InceptionV3\n",
    "from tensorflow.keras.layers import AveragePooling2D\n",
    "from tensorflow.keras.layers import Dropout\n",
    "from tensorflow.keras.layers import Flatten\n",
    "from tensorflow.keras.layers import Dense\n",
    "from tensorflow.keras.layers import Input\n",
    "from tensorflow.keras.models import Model\n",
    "from tensorflow.keras.optimizers import Adam\n",
    "from tensorflow.keras.applications.inception_v3 import preprocess_input\n",
    "from tensorflow.keras.preprocessing.image import img_to_array\n",
    "from tensorflow.keras.preprocessing.image import load_img\n",
    "from tensorflow.keras.utils import to_categorical\n",
    "from sklearn.preprocessing import LabelBinarizer\n",
    "from sklearn.model_selection import train_test_split\n",
    "from sklearn.metrics import classification_report\n",
    "from imutils import paths\n",
    "import matplotlib.pyplot as plt\n",
    "import numpy as np\n",
    "import os"
   ]
  },
  {
   "cell_type": "code",
   "execution_count": 2,
   "id": "95094866",
   "metadata": {},
   "outputs": [],
   "source": [
    "INIT_LR = 1e-4\n",
    "EPOCHS = 2\n",
    "BS = 73\n",
    "\n",
    "DIRECTORY = r\"D:\\users\\meyyappan\\downloads\\Face Mask Dataset\"\n",
    "CATEGORY = [\"withmask\", \"withoutmask\"]"
   ]
  },
  {
   "cell_type": "code",
   "execution_count": 3,
   "id": "b16ce379",
   "metadata": {},
   "outputs": [
    {
     "name": "stdout",
     "output_type": "stream",
     "text": [
      "[INFO] loading images from the dataset for splitting...\n"
     ]
    }
   ],
   "source": [
    "print(\"[INFO] loading images from the dataset for splitting...\")\n",
    "\n",
    "data = []\n",
    "label1 = []\n",
    "\n",
    "for category in CATEGORY:\n",
    "    path = os.path.join(DIRECTORY, category)\n",
    "    for imgs in os.listdir(path):\n",
    "        img_paths = os.path.join(path, imgs)\n",
    "        image1 = load_img(img_paths, target_size=(224, 224))\n",
    "        image1 = img_to_array(image1)\n",
    "        image1 = preprocess_input(image1)\n",
    "        \n",
    "        data.append(image1)\n",
    "        label1.append(category)\n",
    "\n",
    "# perform one-hot encoding on the labels\n",
    "lb = LabelBinarizer()\n",
    "label1 = lb.fit_transform(label1)\n",
    "label1 = to_categorical(label1)\n"
   ]
  },
  {
   "cell_type": "code",
   "execution_count": 4,
   "id": "622f3886",
   "metadata": {},
   "outputs": [],
   "source": [
    "\n",
    "data = np.array(data, dtype=\"float32\")\n",
    "label1 = np.array(label1)\n",
    "(trainX, testX, trainY, testY) = train_test_split(data, label1,\n",
    "    test_size=0.20, stratify=label1, random_state=42)\n",
    "\n"
   ]
  },
  {
   "cell_type": "code",
   "execution_count": 5,
   "id": "b44ed2ef",
   "metadata": {},
   "outputs": [],
   "source": [
    "\n",
    "# Data augmentation\n",
    "augmentation = ImageDataGenerator(\n",
    "    rotation_range=20,\n",
    "    zoom_range=0.15,\n",
    "    width_shift_range=0.2, \n",
    "    height_shift_range=0.2,\n",
    "    shear_range=0.15,\n",
    "    horizontal_flip=True,\n",
    "    fill_mode=\"nearest\")"
   ]
  },
  {
   "cell_type": "code",
   "execution_count": 9,
   "id": "75fc80e6",
   "metadata": {},
   "outputs": [],
   "source": [
    "# removing the top layer of the base model\n",
    "base_Model = InceptionV3(weights=\"imagenet\", include_top=False,\n",
    "    input_tensor=Input(shape=(224, 224, 3)))\n",
    "\n",
    "# creating the head of the model\n",
    "head_Model = base_Model.output\n",
    "head_Model = AveragePooling2D(pool_size=(2, 2))(head_Model)\n",
    "head_Model = Flatten(name=\"flatten\")(head_Model)\n",
    "head_Model = Dense(128, activation=\"relu\")(head_Model)\n",
    "head_Model = Dropout(0.5)(head_Model)\n",
    "head_Model = Dense(2, activation=\"softmax\")(head_Model)"
   ]
  },
  {
   "cell_type": "code",
   "execution_count": 10,
   "id": "8c89d8dd",
   "metadata": {
    "scrolled": true
   },
   "outputs": [
    {
     "name": "stdout",
     "output_type": "stream",
     "text": [
      "[INFO] compiling the model...\n"
     ]
    }
   ],
   "source": [
    "# placing the head  model on top of the base model \n",
    "InceptionV3model = Model(inputs=base_Model.input, outputs=head_Model)\n",
    "\n",
    "#looping over all layers to freeze the model\n",
    "for layers in base_Model.layers:\n",
    "    layers.trainable = False\n",
    "\n",
    "# compiling the model\n",
    "print(\"[INFO] compiling the model...\")\n",
    "optimize = Adam(lr=INIT_LR, decay=INIT_LR / EPOCHS)\n",
    "InceptionV3model.compile(loss=\"binary_crossentropy\", optimizer=optimize,\n",
    "      metrics=[\"accuracy\"])"
   ]
  },
  {
   "cell_type": "code",
   "execution_count": 11,
   "id": "d9b19605",
   "metadata": {
    "scrolled": false
   },
   "outputs": [
    {
     "name": "stdout",
     "output_type": "stream",
     "text": [
      "[INFO] training the model...\n",
      "Epoch 1/2\n",
      "129/129 [==============================] - 517s 4s/step - loss: 0.1033 - accuracy: 0.9670 - val_loss: 0.0121 - val_accuracy: 0.9975\n",
      "Epoch 2/2\n",
      "129/129 [==============================] - 673s 5s/step - loss: 0.0409 - accuracy: 0.9887 - val_loss: 0.0098 - val_accuracy: 0.9979\n"
     ]
    }
   ],
   "source": [
    " # trainning the model\n",
    "print(\"[INFO] training the model...\")\n",
    "L = InceptionV3model.fit(\n",
    "    augmentation.flow(trainX,trainY,batch_size=BS),\n",
    "    steps_per_epoch=len(trainX)//BS,\n",
    "    validation_data=(testX,testY),\n",
    "    validation_steps=len(testX)//BS,\n",
    "    epochs=EPOCHS)"
   ]
  },
  {
   "cell_type": "code",
   "execution_count": 13,
   "id": "edf641b5",
   "metadata": {},
   "outputs": [
    {
     "name": "stdout",
     "output_type": "stream",
     "text": [
      "[INFO] evaluating the model...\n",
      "              precision    recall  f1-score   support\n",
      "\n",
      "    withmask       1.00      1.00      1.00      1177\n",
      " withoutmask       1.00      1.00      1.00      1182\n",
      "\n",
      "    accuracy                           1.00      2359\n",
      "   macro avg       1.00      1.00      1.00      2359\n",
      "weighted avg       1.00      1.00      1.00      2359\n",
      "\n",
      "[INFO] saving mask detection model...\n"
     ]
    }
   ],
   "source": [
    "print(\"[INFO] evaluating the model...\")\n",
    "predIdxs =InceptionV3model.predict(testX, batch_size=BS)\n",
    "\n",
    "# for each and every image in the testing set, we need to find the index of the label with corresponding largest predicted probability\n",
    "predIdxs = np.argmax(predIdxs, axis=1)\n",
    "\n",
    "# printing the classification report\n",
    "print(classification_report(testY.argmax(axis=1), predIdxs,\n",
    "     target_names=lb.classes_))\n",
    "\n",
    "# saving the model\n",
    "print(\"[INFO] saving mask detection model...\")\n",
    "InceptionV3model.save(\"mask_detection.model\", save_format=\"h5\")"
   ]
  },
  {
   "cell_type": "code",
   "execution_count": 14,
   "id": "83e305b2",
   "metadata": {},
   "outputs": [
    {
     "data": {
      "image/png": "[encoded data removed]",
      "text/plain": [
       "<Figure size 432x288 with 1 Axes>"
      ]
     },
     "metadata": {},
     "output_type": "display_data"
    }
   ],
   "source": [
    "K= EPOCHS\n",
    "plt.style.use(\"ggplot\")\n",
    "plt.figure()\n",
    "plt.plot(np.arange(0, K), L.history[\"loss\"], label=\"train_loss\")\n",
    "plt.plot(np.arange(0, K), L.history[\"val_loss\"], label=\"val_loss\")\n",
    "plt.plot(np.arange(0, K), L.history[\"accuracy\"], label=\"train_acc\")\n",
    "plt.plot(np.arange(0, K), L.history[\"val_accuracy\"], label=\"val_acc\")\n",
    "plt.title(\"Training Loss and Accuracy\")\n",
    "plt.xlabel(\"Epoch #\")\n",
    "plt.ylabel(\"Loss/Accuracy\")\n",
    "plt.legend(loc=\"lower left\")\n",
    "plt.savefig(\"plot.png\")"
   ]
  },
  {
   "cell_type": "code",
   "execution_count": 16,
   "id": "6c06fb20",
   "metadata": {},
   "outputs": [
    {
     "name": "stdout",
     "output_type": "stream",
     "text": [
      "This image contains mask!!!\n"
     ]
    },
    {
     "data": {
      "image/png": "[encoded data removed]",
      "text/plain": [
       "<Figure size 432x288 with 1 Axes>"
      ]
     },
     "metadata": {},
     "output_type": "display_data"
    }
   ],
   "source": [
    "#print(predIdxs)\n",
    "img12 =load_img(r'D:\\users\\meyyappan\\downloads\\Face Mask Dataset\\withmask\\5.png',target_size=(224,224))\n",
    "plt.imshow(img12)\n",
    "img12 = img_to_array(img12)\n",
    "img12 = img12/255.0\n",
    "img12 = np.expand_dims(img12,axis=0)\n",
    "f=InceptionV3model.predict(img12)\n",
    "pred1 = np.argmax(f,axis=1)\n",
    "if pred1[0] == 0:\n",
    "    print(\"This image contains mask!!!\")\n",
    "else:\n",
    "    print(\"This image doesn't contain mask!!!\")"
   ]
  },
  {
   "cell_type": "code",
   "execution_count": 41,
   "id": "8b6ee93d",
   "metadata": {},
   "outputs": [
    {
     "name": "stdout",
     "output_type": "stream",
     "text": [
      "2359\n"
     ]
    }
   ],
   "source": [
    "print(len(testX))"
   ]
  },
  {
   "cell_type": "code",
   "execution_count": 42,
   "id": "aeac4d28",
   "metadata": {},
   "outputs": [
    {
     "name": "stdout",
     "output_type": "stream",
     "text": [
      "9433\n"
     ]
    }
   ],
   "source": [
    "print(len(trainY))"
   ]
  },
  {
   "cell_type": "code",
   "execution_count": null,
   "id": "c94704c6",
   "metadata": {},
   "outputs": [],
   "source": []
  }
 ],
 "metadata": {
  "kernelspec": {
   "display_name": "Python 3",
   "language": "python",
   "name": "python3"
  },
  "language_info": {
   "codemirror_mode": {
    "name": "ipython",
    "version": 3
   },
   "file_extension": ".py",
   "mimetype": "text/x-python",
   "name": "python",
   "nbconvert_exporter": "python",
   "pygments_lexer": "ipython3",
   "version": "3.8.8"
  }
 },
 "nbformat": 4,
 "nbformat_minor": 5
}
