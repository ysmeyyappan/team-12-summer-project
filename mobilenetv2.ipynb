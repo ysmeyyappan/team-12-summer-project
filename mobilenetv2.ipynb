{
 "cells": [
  {
   "cell_type": "code",
   "execution_count": 5,
   "id": "b44ed2ef",
   "metadata": {},
   "outputs": [],
   "source": [
    "# Data augmentation\n",
    "aug = ImageDataGenerator(\n",
    "    rotation_range=20,\n",
    "    zoom_range=0.15,\n",
    "    width_shift_range=0.2, \n",
    "    height_shift_range=0.2,\n",
    "    shear_range=0.15,\n",
    "    horizontal_flip=True,\n",
    "    fill_mode=\"nearest\")"
   ]
  },
  {
   "cell_type": "code",
   "execution_count": 7,
   "id": "75fc80e6",
   "metadata": {},
   "outputs": [
    {
     "name": "stdout",
     "output_type": "stream",
     "text": [
      "WARNING:tensorflow:`input_shape` is undefined or non-square, or `rows` is not in [96, 128, 160, 192, 224]. Weights for input shape (224, 224) will be loaded as the default.\n"
     ]
    }
   ],
   "source": [
    "from tensorflow.keras.layers import MaxPooling2D\n",
    "from tensorflow.keras.layers import Conv2D\n",
    "# removing the top layer of the base model\n",
    "baseModel = MobileNetV2(weights=\"imagenet\", include_top=False,\n",
    "    input_tensor=Input(shape=(224, 224, 3)))\n",
    "# creating the head of the model \n",
    "head_Model = baseModel.output\n",
    "head_Model = MaxPooling2D(pool_size = (2, 2)) (head_Model)\n",
    "head_Model = Conv2D(32,(2,2),activation='relu') (head_Model)\n",
    "head_Model = AveragePooling2D(pool_size=(2, 2))(head_Model)\n",
    "head_Model = Flatten(name=\"flatten\")(head_Model)\n",
    "head_Model = Dense(128, activation=\"relu\")(head_Model)\n",
    "head_Model = Dropout(0.5)(head_Model)\n",
    "head_Model = Dense(2, activation=\"softmax\")(head_Model)"
   ]
  },
  {
   "cell_type": "code",
   "execution_count": 8,
   "id": "8c89d8dd",
   "metadata": {
    "scrolled": true
   },
   "outputs": [
    {
     "name": "stdout",
     "output_type": "stream",
     "text": [
      "[INFO] compiling model...\n"
     ]
    },
    {
     "name": "stderr",
     "output_type": "stream",
     "text": [
      "D:\\anaconda\\lib\\site-packages\\keras\\optimizer_v2\\optimizer_v2.py:355: UserWarning: The `lr` argument is deprecated, use `learning_rate` instead.\n",
      "  warnings.warn(\n"
     ]
    }
   ],
   "source": [
    "# placing the head  model on top of the base model \n",
    "model = Model(inputs=baseModel.input, outputs=head_Model)\n",
    "#looping over all layers to freeze the model\n",
    "for layer in baseModel.layers:\n",
    "    layer.trainable = False\n",
    "# compiling the model\n",
    "print(\"[INFO] compiling model...\")\n",
    "opt = Adam(lr=INIT_LR, decay=INIT_LR / EPOCHS)\n",
    "model.compile(loss=\"binary_crossentropy\", optimizer=opt,\n",
    "      metrics=[\"accuracy\"])"
   ]
  }
 ],
 "metadata": {
  "kernelspec": {
   "display_name": "Python 3",
   "language": "python",
   "name": "python3"
  },
  "language_info": {
   "codemirror_mode": {
    "name": "ipython",
    "version": 3
   },
   "file_extension": ".py",
   "mimetype": "text/x-python",
   "name": "python",
   "nbconvert_exporter": "python",
   "pygments_lexer": "ipython3",
   "version": "3.8.8"
  }
 },
 "nbformat": 4,
 "nbformat_minor": 5
}
