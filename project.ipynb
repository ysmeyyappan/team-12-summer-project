{
 "cells": [
  {
   "cell_type": "code",
   "execution_count": 13,
   "id": "d9b19605",
   "metadata": {
    "scrolled": true
   },
   "outputs": [
    {
     "name": "stdout",
     "output_type": "stream",
     "text": [
      "[INFO] training head...\n",
      "Epoch 1/2\n",
      "129/129 [==============================] - 265s 2s/step - loss: 0.2643 - accuracy: 0.9091 - val_loss: 0.0495 - val_accuracy: 0.9826\n",
      "Epoch 2/2\n",
      "129/129 [==============================] - 268s 2s/step - loss: 0.0784 - accuracy: 0.9793 - val_loss: 0.0392 - val_accuracy: 0.9856\n"
     ]
    }
   ],
   "source": [
    " # trainning the model\n",
    "print(\"[INFO] training head...\")\n",
    "H = model.fit(\n",
    "    aug.flow(trainX,trainY,batch_size=BS),\n",
    "    steps_per_epoch=len(trainX)//BS,\n",
    "    validation_data=(testX,testY),\n",
    "    validation_steps=len(testX)//BS,\n",
    "    epochs=EPOCHS)"
   ]
  },
  {
   "cell_type": "code",
   "execution_count": 14,
   "id": "edf641b5",
   "metadata": {},
   "outputs": [
    {
     "name": "stdout",
     "output_type": "stream",
     "text": [
      "[INFO] evaluating network...\n",
      "              precision    recall  f1-score   support\n",
      "\n",
      "    withmask       0.99      0.98      0.99      1177\n",
      " withoutmask       0.98      0.99      0.99      1182\n",
      "\n",
      "    accuracy                           0.99      2359\n",
      "   macro avg       0.99      0.99      0.99      2359\n",
      "weighted avg       0.99      0.99      0.99      2359\n",
      "\n",
      "[INFO] saving mask detector model...\n"
     ]
    },
    {
     "name": "stderr",
     "output_type": "stream",
     "text": [
      "D:\\anaconda\\lib\\site-packages\\keras\\utils\\generic_utils.py:494: CustomMaskWarning: Custom mask layers require a config and must override get_config. When loading, the custom mask layer must be passed to the custom_objects argument.\n",
      "  warnings.warn('Custom mask layers require a config and must override '\n"
     ]
    }
   ],
   "source": [
    "print(\"[INFO] evaluating network...\")\n",
    "predIdxs = model.predict(testX, batch_size=BS)\n",
    "# for each and every image in the testing set, we need to find the index of the label with corresponding largest predicted probability\n",
    "predIdxs = np.argmax(predIdxs, axis=1)\n",
    "\n",
    "# printing the classification report\n",
    "print(classification_report(testY.argmax(axis=1), predIdxs,\n",
    "     target_names=lb.classes_))\n",
    "\n",
    "# saving the model\n",
    "print(\"[INFO] saving mask detector model...\")\n",
    "model.save(\"mask_detector.model\", save_format=\"h5\")"
   ]
  },
  {
   "cell_type": "code",
   "execution_count": 15,
   "id": "83e305b2",
   "metadata": {},
   "outputs": [
    {
     "data": {
      "image/png": "[encoded data removed]",
      "text/plain": [
       "<Figure size 432x288 with 1 Axes>"
      ]
     },
     "metadata": {},
     "output_type": "display_data"
    }
   ],
   "source": [
    "N = EPOCHS\n",
    "plt.style.use(\"ggplot\")\n",
    "plt.figure()\n",
    "plt.plot(np.arange(1, N+1), H.history[\"loss\"], label=\"train_loss\")\n",
    "plt.plot(np.arange(1, N+1), H.history[\"val_loss\"], label=\"val_loss\")\n",
    "plt.plot(np.arange(1, N+1), H.history[\"accuracy\"], label=\"train_acc\")\n",
    "plt.plot(np.arange(1, N+1), H.history[\"val_accuracy\"], label=\"val_acc\")\n",
    "plt.title(\"Training Loss and Accuracy\")\n",
    "plt.xlabel(\"Epoch #\")\n",
    "plt.ylabel(\"Loss/Accuracy\")\n",
    "plt.legend(loc=\"lower left\")\n",
    "plt.savefig(\"plot.png\")"
   ]
  },
  {
   "cell_type": "code",
   "execution_count": null,
   "id": "8b6ee93d",
   "metadata": {},
   "outputs": [],
   "source": []
  }
 ],
 "metadata": {
  "kernelspec": {
   "display_name": "Python 3",
   "language": "python",
   "name": "python3"
  },
  "language_info": {
   "codemirror_mode": {
    "name": "ipython",
    "version": 3
   },
   "file_extension": ".py",
   "mimetype": "text/x-python",
   "name": "python",
   "nbconvert_exporter": "python",
   "pygments_lexer": "ipython3",
   "version": "3.8.8"
  }
 },
 "nbformat": 4,
 "nbformat_minor": 5
}
